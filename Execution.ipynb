{
 "cells": [
  {
   "cell_type": "code",
   "execution_count": null,
   "metadata": {},
   "outputs": [],
   "source": [
    "### 이 명령어를 통해 찾은 최적의 하이퍼파라미터 조합은 아래 !python run.py에서 활용되었습니다. run.py 파일 보시면 해당 하이퍼파라미터들이 적혀있습니다. \n",
    "!python hyperparameter.py --epochs=2"
   ]
  },
  {
   "cell_type": "markdown",
   "metadata": {},
   "source": [
    "---\n",
    "#### 4가지 실험 모델(위의 명령어를 통해서 찾은 최적의 하이퍼파라미터)을 돌리는 터미널 실행 명령어입니다. "
   ]
  },
  {
   "cell_type": "code",
   "execution_count": 2,
   "metadata": {},
   "outputs": [
    {
     "name": "stdout",
     "output_type": "stream",
     "text": [
      "path logger: runs\\run_final"
     ]
    },
    {
     "name": "stderr",
     "output_type": "stream",
     "text": [
      "2022-02-13 17:54:15.678283: W tensorflow/stream_executor/platform/default/dso_loader.cc:64] Could not load dynamic library 'cudart64_110.dll'; dlerror: cudart64_110.dll not found\n",
      "2022-02-13 17:54:15.679028: I tensorflow/stream_executor/cuda/cudart_stub.cc:29] Ignore above cudart dlerror if you do not have a GPU set up on your machine.\n"
     ]
    },
    {
     "name": "stdout",
     "output_type": "stream",
     "text": [
      "\n",
      "Val Loss: 2.2717, valid Accuracy: 38.54 ± nan, Duration: 25220.496 \n",
      "\n"
     ]
    }
   ],
   "source": [
    "!python run.py"
   ]
  },
  {
   "cell_type": "markdown",
   "metadata": {},
   "source": [
    "---\n",
    "#### runs 디렉터리에 있는 모든 실행결과 로그를 확인할 수 있는 (텐서보드로) 명령어입니다.  텐서보드 접속은 기본 default port 번호 사용해서 접속하면 됩니다"
   ]
  },
  {
   "cell_type": "code",
   "execution_count": 16,
   "metadata": {},
   "outputs": [
    {
     "name": "stdout",
     "output_type": "stream",
     "text": [
      "^C\n"
     ]
    }
   ],
   "source": [
    "!tensorboard --logdir=runs"
   ]
  },
  {
   "cell_type": "markdown",
   "metadata": {},
   "source": [
    "---\n",
    "#### 제공된 test data셋에 대해서 에측 및 결과 저장"
   ]
  },
  {
   "cell_type": "code",
   "execution_count": 7,
   "metadata": {},
   "outputs": [
    {
     "name": "stdout",
     "output_type": "stream",
     "text": [
      "tensor([24, 16, 16,  ..., 24,  4,  8])\n"
     ]
    }
   ],
   "source": [
    "import torch\n",
    "import torch.nn.functional as F\n",
    "from sklearn.metrics import precision_score, recall_score, f1_score\n",
    "from custom_datasets import CustomDataset\n",
    "\n",
    "\n",
    "\n",
    "def evaluate(model, data):\n",
    "    model.eval()\n",
    "\n",
    "    with torch.no_grad():\n",
    "        logits = model(data)\n",
    "\n",
    "    outs = {}\n",
    "    mask = data.test_mask\n",
    "    key ='test'             \n",
    "        \n",
    "    loss = F.nll_loss(logits[mask], data.y[mask]).item()\n",
    "    pred = logits[mask].max(1)[1]\n",
    "    acc = pred.eq(data.y[mask]).sum().item() / mask.sum().item()\n",
    "\n",
    "    return pred\n",
    "\n",
    "\n",
    "dataset = CustomDataset()\n",
    "model = torch.load('save/model_fin.pth')\n",
    "outs = evaluate(model, dataset)\n",
    "print(outs)\n",
    "\n"
   ]
  },
  {
   "cell_type": "code",
   "execution_count": 12,
   "metadata": {},
   "outputs": [],
   "source": [
    "import pandas as pd\n",
    "\n",
    "result = pd.read_csv('data/node_label_test.csv')\n",
    "\n",
    "result.columns = ['id', 'pred']\n",
    "result.pred = outs\n",
    "result.to_csv('result/result.csv', index = False)"
   ]
  }
 ],
 "metadata": {
  "interpreter": {
   "hash": "5a76ec67cc700e8b4b69919c38150e027361854285467e972b878ad1dc6c1f25"
  },
  "kernelspec": {
   "display_name": "Python 3.8.10 ('graph')",
   "language": "python",
   "name": "python3"
  },
  "language_info": {
   "codemirror_mode": {
    "name": "ipython",
    "version": 3
   },
   "file_extension": ".py",
   "mimetype": "text/x-python",
   "name": "python",
   "nbconvert_exporter": "python",
   "pygments_lexer": "ipython3",
   "version": "3.8.10"
  },
  "orig_nbformat": 4
 },
 "nbformat": 4,
 "nbformat_minor": 2
}
